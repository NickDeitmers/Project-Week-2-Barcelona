{
 "cells": [
  {
   "cell_type": "code",
   "execution_count": 2,
   "metadata": {},
   "outputs": [],
   "source": [
    "import pandas as pd\n",
    "import numpy as np\n",
    "import re"
   ]
  },
  {
   "cell_type": "markdown",
   "metadata": {},
   "source": [
    " "
   ]
  },
  {
   "cell_type": "markdown",
   "metadata": {},
   "source": [
    "## Import files"
   ]
  },
  {
   "cell_type": "code",
   "execution_count": 3,
   "metadata": {},
   "outputs": [],
   "source": [
    "unemp_2019=pd.read_csv(\"/Users/macbook/Documents/Ironhack/Week2/Project/Project-Week-2-Barcelona/data/2019_Atur_per_sexe.csv\")"
   ]
  },
  {
   "cell_type": "code",
   "execution_count": 4,
   "metadata": {},
   "outputs": [],
   "source": [
    "unemp_2020=pd.read_csv(\"/Users/macbook/Documents/Ironhack/Week2/Project/Project-Week-2-Barcelona/data/2020_Atur_per_sexe.csv\")"
   ]
  },
  {
   "cell_type": "code",
   "execution_count": 5,
   "metadata": {},
   "outputs": [],
   "source": [
    "unemp_2018=pd.read_csv(\"/Users/macbook/Documents/Ironhack/Week2/Project/Project-Week-2-Barcelona/data/2018_Atur_per_sexe.csv\")"
   ]
  },
  {
   "cell_type": "code",
   "execution_count": 6,
   "metadata": {},
   "outputs": [
    {
     "data": {
      "text/html": [
       "<div>\n",
       "<style scoped>\n",
       "    .dataframe tbody tr th:only-of-type {\n",
       "        vertical-align: middle;\n",
       "    }\n",
       "\n",
       "    .dataframe tbody tr th {\n",
       "        vertical-align: top;\n",
       "    }\n",
       "\n",
       "    .dataframe thead th {\n",
       "        text-align: right;\n",
       "    }\n",
       "</style>\n",
       "<table border=\"1\" class=\"dataframe\">\n",
       "  <thead>\n",
       "    <tr style=\"text-align: right;\">\n",
       "      <th></th>\n",
       "      <th>Any</th>\n",
       "      <th>Mes</th>\n",
       "      <th>Codi_Districte</th>\n",
       "      <th>Nom_Districte</th>\n",
       "      <th>Codi_Barri</th>\n",
       "      <th>Nom_Barri</th>\n",
       "      <th>Sexe</th>\n",
       "      <th>Demanda_ocupacio</th>\n",
       "      <th>Nombre</th>\n",
       "    </tr>\n",
       "  </thead>\n",
       "  <tbody>\n",
       "    <tr>\n",
       "      <th>0</th>\n",
       "      <td>2020</td>\n",
       "      <td>1</td>\n",
       "      <td>1</td>\n",
       "      <td>Ciutat Vella</td>\n",
       "      <td>1</td>\n",
       "      <td>el Raval</td>\n",
       "      <td>Homes</td>\n",
       "      <td>Atur Registrat</td>\n",
       "      <td>1724</td>\n",
       "    </tr>\n",
       "    <tr>\n",
       "      <th>1</th>\n",
       "      <td>2020</td>\n",
       "      <td>1</td>\n",
       "      <td>1</td>\n",
       "      <td>Ciutat Vella</td>\n",
       "      <td>2</td>\n",
       "      <td>el Barri Gòtic</td>\n",
       "      <td>Homes</td>\n",
       "      <td>Atur Registrat</td>\n",
       "      <td>491</td>\n",
       "    </tr>\n",
       "    <tr>\n",
       "      <th>2</th>\n",
       "      <td>2020</td>\n",
       "      <td>1</td>\n",
       "      <td>1</td>\n",
       "      <td>Ciutat Vella</td>\n",
       "      <td>3</td>\n",
       "      <td>la Barceloneta</td>\n",
       "      <td>Homes</td>\n",
       "      <td>Atur Registrat</td>\n",
       "      <td>489</td>\n",
       "    </tr>\n",
       "    <tr>\n",
       "      <th>3</th>\n",
       "      <td>2020</td>\n",
       "      <td>1</td>\n",
       "      <td>1</td>\n",
       "      <td>Ciutat Vella</td>\n",
       "      <td>4</td>\n",
       "      <td>Sant Pere, Santa Caterina i la Ribera</td>\n",
       "      <td>Homes</td>\n",
       "      <td>Atur Registrat</td>\n",
       "      <td>673</td>\n",
       "    </tr>\n",
       "    <tr>\n",
       "      <th>4</th>\n",
       "      <td>2020</td>\n",
       "      <td>1</td>\n",
       "      <td>2</td>\n",
       "      <td>Eixample</td>\n",
       "      <td>5</td>\n",
       "      <td>el Fort Pienc</td>\n",
       "      <td>Homes</td>\n",
       "      <td>Atur Registrat</td>\n",
       "      <td>542</td>\n",
       "    </tr>\n",
       "  </tbody>\n",
       "</table>\n",
       "</div>"
      ],
      "text/plain": [
       "    Any  Mes  Codi_Districte Nom_Districte  Codi_Barri  \\\n",
       "0  2020    1               1  Ciutat Vella           1   \n",
       "1  2020    1               1  Ciutat Vella           2   \n",
       "2  2020    1               1  Ciutat Vella           3   \n",
       "3  2020    1               1  Ciutat Vella           4   \n",
       "4  2020    1               2      Eixample           5   \n",
       "\n",
       "                               Nom_Barri   Sexe Demanda_ocupacio  Nombre  \n",
       "0                               el Raval  Homes   Atur Registrat    1724  \n",
       "1                         el Barri Gòtic  Homes   Atur Registrat     491  \n",
       "2                         la Barceloneta  Homes   Atur Registrat     489  \n",
       "3  Sant Pere, Santa Caterina i la Ribera  Homes   Atur Registrat     673  \n",
       "4                          el Fort Pienc  Homes   Atur Registrat     542  "
      ]
     },
     "execution_count": 6,
     "metadata": {},
     "output_type": "execute_result"
    }
   ],
   "source": [
    "unemp_2020.head()"
   ]
  },
  {
   "cell_type": "markdown",
   "metadata": {},
   "source": [
    " "
   ]
  },
  {
   "cell_type": "markdown",
   "metadata": {},
   "source": [
    "Change the name of the columns"
   ]
  },
  {
   "cell_type": "code",
   "execution_count": 7,
   "metadata": {},
   "outputs": [],
   "source": [
    "col_names = ['any', 'mes', 'codi_districte', 'nom_districte', 'codi_barri',\n",
    "       'nom_barri', 'sexe', 'demanda_ocupacio', 'nombre']"
   ]
  },
  {
   "cell_type": "code",
   "execution_count": 10,
   "metadata": {},
   "outputs": [],
   "source": [
    "unemp_2018.columns = col_names\n",
    "unemp_2019.columns = col_names\n",
    "unemp_2020.columns = col_names"
   ]
  },
  {
   "cell_type": "markdown",
   "metadata": {},
   "source": [
    " "
   ]
  },
  {
   "cell_type": "markdown",
   "metadata": {},
   "source": [
    "Adding quarters"
   ]
  },
  {
   "cell_type": "code",
   "execution_count": 11,
   "metadata": {},
   "outputs": [],
   "source": [
    "months = [1,2,3,4,5,6,7,8,9,10,11,12]\n",
    "quarters = [1,1,1,2,2,2,3,3,3,4,4,4]"
   ]
  },
  {
   "cell_type": "code",
   "execution_count": 12,
   "metadata": {},
   "outputs": [],
   "source": [
    "quarter_month =pd.DataFrame({\"month\": months,\n",
    "             \"quarter\": quarters\n",
    "            })"
   ]
  },
  {
   "cell_type": "code",
   "execution_count": 13,
   "metadata": {},
   "outputs": [],
   "source": [
    "q_2018 = unemp_2018.merge(right=quarter_month, how=\"left\", left_on=\"mes\", right_on=\"month\").drop(\"month\", axis=1)\n",
    "q_2019 = unemp_2019.merge(right=quarter_month, how=\"left\", left_on=\"mes\", right_on=\"month\").drop(\"month\", axis=1)\n",
    "q_2020 = unemp_2020.merge(right=quarter_month, how=\"left\", left_on=\"mes\", right_on=\"month\").drop(\"month\", axis=1)"
   ]
  },
  {
   "cell_type": "markdown",
   "metadata": {},
   "source": [
    " "
   ]
  },
  {
   "cell_type": "markdown",
   "metadata": {},
   "source": [
    "Chenge the capitals in 2020"
   ]
  },
  {
   "cell_type": "code",
   "execution_count": 15,
   "metadata": {},
   "outputs": [],
   "source": [
    "no_regex= re.compile(\"No\")\n",
    "q_2020[\"demanda_ocupacio\"].replace(to_replace=no_regex, value=\"no\", inplace=True)\n",
    "atu_regex= re.compile(\"Aturats\")\n",
    "q_2020[\"demanda_ocupacio\"].replace(to_replace=atu_regex, value=\"aturats\", inplace=True)\n",
    "reg_regex= re.compile(\"Registrat\")\n",
    "q_2020[\"demanda_ocupacio\"].replace(to_replace=reg_regex, value=\"registrat\", inplace=True)"
   ]
  },
  {
   "cell_type": "markdown",
   "metadata": {},
   "source": [
    " "
   ]
  },
  {
   "cell_type": "markdown",
   "metadata": {},
   "source": [
    "Put together the 3 years"
   ]
  },
  {
   "cell_type": "code",
   "execution_count": 16,
   "metadata": {},
   "outputs": [],
   "source": [
    "frames= [q_2018, q_2019, q_2020]\n",
    "q_full = pd.concat(frames)"
   ]
  },
  {
   "cell_type": "markdown",
   "metadata": {},
   "source": [
    " "
   ]
  },
  {
   "cell_type": "markdown",
   "metadata": {},
   "source": [
    "## Analyzing by gender"
   ]
  },
  {
   "cell_type": "markdown",
   "metadata": {},
   "source": [
    "Data stored by quarter"
   ]
  },
  {
   "cell_type": "code",
   "execution_count": 18,
   "metadata": {},
   "outputs": [],
   "source": [
    "y18q10 = q_2018[q_2018[\"quarter\"] == 1]\n",
    "y18q20 = q_2018[q_2018[\"quarter\"] == 2]\n",
    "y18q30 = q_2018[q_2018[\"quarter\"] == 3]\n",
    "y18q40 = q_2018[q_2018[\"quarter\"] == 4]\n",
    "y19q10 = q_2019[q_2019[\"quarter\"] == 1]\n",
    "y19q20 = q_2019[q_2019[\"quarter\"] == 2]\n",
    "y19q30 = q_2019[q_2019[\"quarter\"] == 3]\n",
    "y19q40 = q_2019[q_2019[\"quarter\"] == 4]\n",
    "y20q10 = q_2020[q_2020[\"quarter\"] == 1]\n",
    "y20q20 = q_2020[q_2020[\"quarter\"] == 2]\n",
    "y20q30 = q_2020[q_2020[\"quarter\"] == 3]\n",
    "y20q40 = q_2020[q_2020[\"quarter\"] == 4]"
   ]
  },
  {
   "cell_type": "code",
   "execution_count": 19,
   "metadata": {},
   "outputs": [],
   "source": [
    "y20q1 = pd.DataFrame(y20q10.groupby([\"sexe\"])[\"nombre\"].sum())\n",
    "y20q2 = pd.DataFrame(y20q20.groupby([\"sexe\"])[\"nombre\"].sum())\n",
    "y20q3 = pd.DataFrame(y20q30.groupby([\"sexe\"])[\"nombre\"].sum())\n",
    "y19q1 = pd.DataFrame(y19q10.groupby([\"sexe\"])[\"nombre\"].sum())\n",
    "y19q2 = pd.DataFrame(y19q20.groupby([\"sexe\"])[\"nombre\"].sum())\n",
    "y19q3 = pd.DataFrame(y19q30.groupby([\"sexe\"])[\"nombre\"].sum())\n",
    "y19q4 = pd.DataFrame(y19q40.groupby([\"sexe\"])[\"nombre\"].sum())\n",
    "y18q1 = pd.DataFrame(y18q10.groupby([\"sexe\"])[\"nombre\"].sum())\n",
    "y18q2 = pd.DataFrame(y18q20.groupby([\"sexe\"])[\"nombre\"].sum())\n",
    "y18q3 = pd.DataFrame(y18q30.groupby([\"sexe\"])[\"nombre\"].sum())\n",
    "y18q4 = pd.DataFrame(y18q40.groupby([\"sexe\"])[\"nombre\"].sum())\n",
    "y20q1[\"increase\"] = (y20q1[\"nombre\"] / y19q4[\"nombre\"] -1)\n",
    "y20q2[\"increase\"] = (y20q2[\"nombre\"] / y20q1[\"nombre\"] -1)\n",
    "y20q3[\"increase\"] = (y20q3[\"nombre\"] / y20q2[\"nombre\"] -1)\n",
    "y19q1[\"increase\"] = (y19q1[\"nombre\"] / y18q4[\"nombre\"] -1)\n",
    "y19q2[\"increase\"] = (y19q2[\"nombre\"] / y19q1[\"nombre\"] -1)\n",
    "y19q3[\"increase\"] = (y19q3[\"nombre\"] / y19q2[\"nombre\"] -1)\n",
    "y19q4[\"increase\"] = (y19q4[\"nombre\"] / y19q3[\"nombre\"] -1)\n",
    "y18q2[\"increase\"] = (y18q2[\"nombre\"] / y18q1[\"nombre\"] -1)\n",
    "y18q3[\"increase\"] = (y18q3[\"nombre\"] / y18q2[\"nombre\"] -1)\n",
    "y18q4[\"increase\"] = (y18q4[\"nombre\"] / y18q3[\"nombre\"] -1)\n",
    "y18q1[[\"Y18_Q2\", \"Change1\"]] = y18q2\n",
    "y18q1[[\"Y18_Q3\", \"Change2\"]] = y18q3\n",
    "y18q1[[\"Y18_Q4\", \"Change3\"]] = y18q4\n",
    "y18q1[[\"Y19_Q1\", \"Change4\"]] = y19q1\n",
    "y18q1[[\"Y19_Q2\", \"Change5\"]] = y19q2\n",
    "y18q1[[\"Y19_Q3\", \"Change6\"]] = y19q3\n",
    "y18q1[[\"Y19_Q4\", \"Change7\"]] = y19q4\n",
    "y18q1[[\"Y20_Q1\", \"Change8\"]] = y20q1\n",
    "y18q1[[\"Y20_Q2\", \"Change9\"]] = y20q2\n",
    "y18q1[[\"Y20_Q3\", \"Change10\"]] = y20q3\n",
    "full_table = y18q1\n",
    "full_table.rename(columns={\"nombre\":\"Y18_Q1\"}, inplace = True)"
   ]
  },
  {
   "cell_type": "code",
   "execution_count": 52,
   "metadata": {},
   "outputs": [],
   "source": [
    "col = ['Y18_Q1', 'Change1', 'Y18_Q2','Change2','Y18_Q3', 'Change3','Y18_Q4', 'Change4',\n",
    "       'Y19_Q1', 'Change5', 'Y19_Q2', 'Change6', 'Y19_Q3', 'Change7', 'Y19_Q4',\n",
    "       'Change8', 'Y20_Q1', 'Change9', 'Y20_Q2', 'Change10', 'Y20_Q3']"
   ]
  },
  {
   "cell_type": "code",
   "execution_count": 47,
   "metadata": {
    "scrolled": true
   },
   "outputs": [],
   "source": [
    "full_table = full_table[col]"
   ]
  },
  {
   "cell_type": "code",
   "execution_count": 48,
   "metadata": {},
   "outputs": [
    {
     "data": {
      "text/html": [
       "<div>\n",
       "<style scoped>\n",
       "    .dataframe tbody tr th:only-of-type {\n",
       "        vertical-align: middle;\n",
       "    }\n",
       "\n",
       "    .dataframe tbody tr th {\n",
       "        vertical-align: top;\n",
       "    }\n",
       "\n",
       "    .dataframe thead th {\n",
       "        text-align: right;\n",
       "    }\n",
       "</style>\n",
       "<table border=\"1\" class=\"dataframe\">\n",
       "  <thead>\n",
       "    <tr style=\"text-align: right;\">\n",
       "      <th></th>\n",
       "      <th>Y18_Q1</th>\n",
       "      <th>Change1</th>\n",
       "      <th>Y18_Q2</th>\n",
       "      <th>Change2</th>\n",
       "      <th>Y18_Q3</th>\n",
       "      <th>Change3</th>\n",
       "      <th>Y18_Q4</th>\n",
       "      <th>Change4</th>\n",
       "      <th>Y19_Q1</th>\n",
       "      <th>Change5</th>\n",
       "      <th>...</th>\n",
       "      <th>Change6</th>\n",
       "      <th>Y19_Q3</th>\n",
       "      <th>Change7</th>\n",
       "      <th>Y19_Q4</th>\n",
       "      <th>Change8</th>\n",
       "      <th>Y20_Q1</th>\n",
       "      <th>Change9</th>\n",
       "      <th>Y20_Q2</th>\n",
       "      <th>Change10</th>\n",
       "      <th>Y20_Q3</th>\n",
       "    </tr>\n",
       "    <tr>\n",
       "      <th>sexe</th>\n",
       "      <th></th>\n",
       "      <th></th>\n",
       "      <th></th>\n",
       "      <th></th>\n",
       "      <th></th>\n",
       "      <th></th>\n",
       "      <th></th>\n",
       "      <th></th>\n",
       "      <th></th>\n",
       "      <th></th>\n",
       "      <th></th>\n",
       "      <th></th>\n",
       "      <th></th>\n",
       "      <th></th>\n",
       "      <th></th>\n",
       "      <th></th>\n",
       "      <th></th>\n",
       "      <th></th>\n",
       "      <th></th>\n",
       "      <th></th>\n",
       "      <th></th>\n",
       "    </tr>\n",
       "  </thead>\n",
       "  <tbody>\n",
       "    <tr>\n",
       "      <th>Dones</th>\n",
       "      <td>150941</td>\n",
       "      <td>-0.033742</td>\n",
       "      <td>145848</td>\n",
       "      <td>0.041063</td>\n",
       "      <td>151837</td>\n",
       "      <td>-0.043422</td>\n",
       "      <td>145244</td>\n",
       "      <td>-0.005852</td>\n",
       "      <td>144394</td>\n",
       "      <td>-0.025070</td>\n",
       "      <td>...</td>\n",
       "      <td>0.054136</td>\n",
       "      <td>148395</td>\n",
       "      <td>-0.027555</td>\n",
       "      <td>144306</td>\n",
       "      <td>0.028876</td>\n",
       "      <td>148473</td>\n",
       "      <td>1.063042</td>\n",
       "      <td>306306</td>\n",
       "      <td>0.153546</td>\n",
       "      <td>353338</td>\n",
       "    </tr>\n",
       "    <tr>\n",
       "      <th>Homes</th>\n",
       "      <td>130207</td>\n",
       "      <td>-0.070181</td>\n",
       "      <td>121069</td>\n",
       "      <td>-0.031263</td>\n",
       "      <td>117284</td>\n",
       "      <td>0.027404</td>\n",
       "      <td>120498</td>\n",
       "      <td>0.023378</td>\n",
       "      <td>123315</td>\n",
       "      <td>-0.049678</td>\n",
       "      <td>...</td>\n",
       "      <td>-0.016077</td>\n",
       "      <td>115305</td>\n",
       "      <td>0.042531</td>\n",
       "      <td>120209</td>\n",
       "      <td>0.045438</td>\n",
       "      <td>125671</td>\n",
       "      <td>1.423789</td>\n",
       "      <td>304600</td>\n",
       "      <td>0.147571</td>\n",
       "      <td>349550</td>\n",
       "    </tr>\n",
       "  </tbody>\n",
       "</table>\n",
       "<p>2 rows × 21 columns</p>\n",
       "</div>"
      ],
      "text/plain": [
       "       Y18_Q1   Change1  Y18_Q2   Change2  Y18_Q3   Change3  Y18_Q4   Change4  \\\n",
       "sexe                                                                            \n",
       "Dones  150941 -0.033742  145848  0.041063  151837 -0.043422  145244 -0.005852   \n",
       "Homes  130207 -0.070181  121069 -0.031263  117284  0.027404  120498  0.023378   \n",
       "\n",
       "       Y19_Q1   Change5  ...   Change6  Y19_Q3   Change7  Y19_Q4   Change8  \\\n",
       "sexe                     ...                                                 \n",
       "Dones  144394 -0.025070  ...  0.054136  148395 -0.027555  144306  0.028876   \n",
       "Homes  123315 -0.049678  ... -0.016077  115305  0.042531  120209  0.045438   \n",
       "\n",
       "       Y20_Q1   Change9  Y20_Q2  Change10  Y20_Q3  \n",
       "sexe                                               \n",
       "Dones  148473  1.063042  306306  0.153546  353338  \n",
       "Homes  125671  1.423789  304600  0.147571  349550  \n",
       "\n",
       "[2 rows x 21 columns]"
      ]
     },
     "execution_count": 48,
     "metadata": {},
     "output_type": "execute_result"
    }
   ],
   "source": [
    "full_table"
   ]
  },
  {
   "cell_type": "code",
   "execution_count": 23,
   "metadata": {},
   "outputs": [],
   "source": [
    "y20q1 = pd.DataFrame(y20q10.groupby([\"sexe\"])[\"nombre\"].sum())\n",
    "y20q2 = pd.DataFrame(y20q20.groupby([\"sexe\"])[\"nombre\"].sum())\n",
    "y20q3 = pd.DataFrame(y20q30.groupby([\"sexe\"])[\"nombre\"].sum())\n",
    "y19q1 = pd.DataFrame(y19q10.groupby([\"sexe\"])[\"nombre\"].sum())\n",
    "y19q2 = pd.DataFrame(y19q20.groupby([\"sexe\"])[\"nombre\"].sum())\n",
    "y19q3 = pd.DataFrame(y19q30.groupby([\"sexe\"])[\"nombre\"].sum())\n",
    "y19q4 = pd.DataFrame(y19q40.groupby([\"sexe\"])[\"nombre\"].sum())\n",
    "y18q1 = pd.DataFrame(y18q10.groupby([\"sexe\"])[\"nombre\"].sum())\n",
    "y18q2 = pd.DataFrame(y18q20.groupby([\"sexe\"])[\"nombre\"].sum())\n",
    "y18q3 = pd.DataFrame(y18q30.groupby([\"sexe\"])[\"nombre\"].sum())\n",
    "y18q4 = pd.DataFrame(y18q40.groupby([\"sexe\"])[\"nombre\"].sum())\n",
    "y18q1[[\"Y18_Q2\"]] = y18q2\n",
    "y18q1[[\"Y18_Q3\"]] = y18q3\n",
    "y18q1[[\"Y18_Q4\"]] = y18q4\n",
    "y18q1[[\"Y19_Q1\"]] = y19q1\n",
    "y18q1[[\"Y19_Q2\"]] = y19q2\n",
    "y18q1[[\"Y19_Q3\"]] = y19q3\n",
    "y18q1[[\"Y19_Q4\"]] = y19q4\n",
    "y18q1[[\"Y20_Q1\"]] = y20q1\n",
    "y18q1[[\"Y20_Q2\"]] = y20q2\n",
    "y18q1[[\"Y20_Q3\"]] = y20q3\n",
    "full_table_quarters = y18q1\n",
    "full_table_quarters.rename(columns={\"nombre\":\"Y18_Q1\"}, inplace = True)"
   ]
  },
  {
   "cell_type": "code",
   "execution_count": 119,
   "metadata": {
    "scrolled": true
   },
   "outputs": [
    {
     "data": {
      "text/html": [
       "<div>\n",
       "<style scoped>\n",
       "    .dataframe tbody tr th:only-of-type {\n",
       "        vertical-align: middle;\n",
       "    }\n",
       "\n",
       "    .dataframe tbody tr th {\n",
       "        vertical-align: top;\n",
       "    }\n",
       "\n",
       "    .dataframe thead th {\n",
       "        text-align: right;\n",
       "    }\n",
       "</style>\n",
       "<table border=\"1\" class=\"dataframe\">\n",
       "  <thead>\n",
       "    <tr style=\"text-align: right;\">\n",
       "      <th></th>\n",
       "      <th>Y18_Q1</th>\n",
       "      <th>Y18_Q2</th>\n",
       "      <th>Y18_Q3</th>\n",
       "      <th>Y18_Q4</th>\n",
       "      <th>Y19_Q1</th>\n",
       "      <th>Y19_Q2</th>\n",
       "      <th>Y19_Q3</th>\n",
       "      <th>Y19_Q4</th>\n",
       "      <th>Y20_Q1</th>\n",
       "      <th>Y20_Q2</th>\n",
       "      <th>Y20_Q3</th>\n",
       "    </tr>\n",
       "    <tr>\n",
       "      <th>sexe</th>\n",
       "      <th></th>\n",
       "      <th></th>\n",
       "      <th></th>\n",
       "      <th></th>\n",
       "      <th></th>\n",
       "      <th></th>\n",
       "      <th></th>\n",
       "      <th></th>\n",
       "      <th></th>\n",
       "      <th></th>\n",
       "      <th></th>\n",
       "    </tr>\n",
       "  </thead>\n",
       "  <tbody>\n",
       "    <tr>\n",
       "      <th>Dones</th>\n",
       "      <td>150941</td>\n",
       "      <td>145848</td>\n",
       "      <td>151837</td>\n",
       "      <td>145244</td>\n",
       "      <td>144394</td>\n",
       "      <td>140774</td>\n",
       "      <td>148395</td>\n",
       "      <td>144306</td>\n",
       "      <td>148473</td>\n",
       "      <td>306306</td>\n",
       "      <td>353338</td>\n",
       "    </tr>\n",
       "    <tr>\n",
       "      <th>Homes</th>\n",
       "      <td>130207</td>\n",
       "      <td>121069</td>\n",
       "      <td>117284</td>\n",
       "      <td>120498</td>\n",
       "      <td>123315</td>\n",
       "      <td>117189</td>\n",
       "      <td>115305</td>\n",
       "      <td>120209</td>\n",
       "      <td>125671</td>\n",
       "      <td>304600</td>\n",
       "      <td>349550</td>\n",
       "    </tr>\n",
       "  </tbody>\n",
       "</table>\n",
       "</div>"
      ],
      "text/plain": [
       "       Y18_Q1  Y18_Q2  Y18_Q3  Y18_Q4  Y19_Q1  Y19_Q2  Y19_Q3  Y19_Q4  Y20_Q1  \\\n",
       "sexe                                                                            \n",
       "Dones  150941  145848  151837  145244  144394  140774  148395  144306  148473   \n",
       "Homes  130207  121069  117284  120498  123315  117189  115305  120209  125671   \n",
       "\n",
       "       Y20_Q2  Y20_Q3  \n",
       "sexe                   \n",
       "Dones  306306  353338  \n",
       "Homes  304600  349550  "
      ]
     },
     "execution_count": 119,
     "metadata": {},
     "output_type": "execute_result"
    }
   ],
   "source": [
    "full_table_quarters\n"
   ]
  },
  {
   "cell_type": "code",
   "execution_count": 112,
   "metadata": {
    "scrolled": true
   },
   "outputs": [],
   "source": [
    "x = pd.DataFrame(full_table_quarters.sum())"
   ]
  },
  {
   "cell_type": "code",
   "execution_count": 150,
   "metadata": {},
   "outputs": [],
   "source": [
    "desc = full_table_quarters.describe()"
   ]
  },
  {
   "cell_type": "code",
   "execution_count": 151,
   "metadata": {},
   "outputs": [
    {
     "data": {
      "text/html": [
       "<div>\n",
       "<style scoped>\n",
       "    .dataframe tbody tr th:only-of-type {\n",
       "        vertical-align: middle;\n",
       "    }\n",
       "\n",
       "    .dataframe tbody tr th {\n",
       "        vertical-align: top;\n",
       "    }\n",
       "\n",
       "    .dataframe thead th {\n",
       "        text-align: right;\n",
       "    }\n",
       "</style>\n",
       "<table border=\"1\" class=\"dataframe\">\n",
       "  <thead>\n",
       "    <tr style=\"text-align: right;\">\n",
       "      <th></th>\n",
       "      <th>Y18_Q1</th>\n",
       "      <th>Y18_Q2</th>\n",
       "      <th>Y18_Q3</th>\n",
       "      <th>Y18_Q4</th>\n",
       "      <th>Y19_Q1</th>\n",
       "      <th>Y19_Q2</th>\n",
       "      <th>Y19_Q3</th>\n",
       "      <th>Y19_Q4</th>\n",
       "      <th>Y20_Q1</th>\n",
       "      <th>Y20_Q2</th>\n",
       "      <th>Y20_Q3</th>\n",
       "    </tr>\n",
       "  </thead>\n",
       "  <tbody>\n",
       "    <tr>\n",
       "      <th>count</th>\n",
       "      <td>2.000000</td>\n",
       "      <td>2.000000</td>\n",
       "      <td>2.00000</td>\n",
       "      <td>2.000000</td>\n",
       "      <td>2.000000</td>\n",
       "      <td>2.000000</td>\n",
       "      <td>2.000000</td>\n",
       "      <td>2.000000</td>\n",
       "      <td>2.000000</td>\n",
       "      <td>2.000000</td>\n",
       "      <td>2.000000</td>\n",
       "    </tr>\n",
       "    <tr>\n",
       "      <th>mean</th>\n",
       "      <td>140574.000000</td>\n",
       "      <td>133458.500000</td>\n",
       "      <td>134560.50000</td>\n",
       "      <td>132871.000000</td>\n",
       "      <td>133854.500000</td>\n",
       "      <td>128981.500000</td>\n",
       "      <td>131850.000000</td>\n",
       "      <td>132257.500000</td>\n",
       "      <td>137072.000000</td>\n",
       "      <td>305453.000000</td>\n",
       "      <td>351444.000000</td>\n",
       "    </tr>\n",
       "    <tr>\n",
       "      <th>std</th>\n",
       "      <td>14661.152001</td>\n",
       "      <td>17521.398931</td>\n",
       "      <td>24432.66061</td>\n",
       "      <td>17498.064407</td>\n",
       "      <td>14905.103841</td>\n",
       "      <td>16677.113434</td>\n",
       "      <td>23398.163389</td>\n",
       "      <td>17039.152106</td>\n",
       "      <td>16123.448825</td>\n",
       "      <td>1206.324169</td>\n",
       "      <td>2678.520487</td>\n",
       "    </tr>\n",
       "    <tr>\n",
       "      <th>min</th>\n",
       "      <td>130207.000000</td>\n",
       "      <td>121069.000000</td>\n",
       "      <td>117284.00000</td>\n",
       "      <td>120498.000000</td>\n",
       "      <td>123315.000000</td>\n",
       "      <td>117189.000000</td>\n",
       "      <td>115305.000000</td>\n",
       "      <td>120209.000000</td>\n",
       "      <td>125671.000000</td>\n",
       "      <td>304600.000000</td>\n",
       "      <td>349550.000000</td>\n",
       "    </tr>\n",
       "    <tr>\n",
       "      <th>25%</th>\n",
       "      <td>135390.500000</td>\n",
       "      <td>127263.750000</td>\n",
       "      <td>125922.25000</td>\n",
       "      <td>126684.500000</td>\n",
       "      <td>128584.750000</td>\n",
       "      <td>123085.250000</td>\n",
       "      <td>123577.500000</td>\n",
       "      <td>126233.250000</td>\n",
       "      <td>131371.500000</td>\n",
       "      <td>305026.500000</td>\n",
       "      <td>350497.000000</td>\n",
       "    </tr>\n",
       "    <tr>\n",
       "      <th>50%</th>\n",
       "      <td>140574.000000</td>\n",
       "      <td>133458.500000</td>\n",
       "      <td>134560.50000</td>\n",
       "      <td>132871.000000</td>\n",
       "      <td>133854.500000</td>\n",
       "      <td>128981.500000</td>\n",
       "      <td>131850.000000</td>\n",
       "      <td>132257.500000</td>\n",
       "      <td>137072.000000</td>\n",
       "      <td>305453.000000</td>\n",
       "      <td>351444.000000</td>\n",
       "    </tr>\n",
       "    <tr>\n",
       "      <th>75%</th>\n",
       "      <td>145757.500000</td>\n",
       "      <td>139653.250000</td>\n",
       "      <td>143198.75000</td>\n",
       "      <td>139057.500000</td>\n",
       "      <td>139124.250000</td>\n",
       "      <td>134877.750000</td>\n",
       "      <td>140122.500000</td>\n",
       "      <td>138281.750000</td>\n",
       "      <td>142772.500000</td>\n",
       "      <td>305879.500000</td>\n",
       "      <td>352391.000000</td>\n",
       "    </tr>\n",
       "    <tr>\n",
       "      <th>max</th>\n",
       "      <td>150941.000000</td>\n",
       "      <td>145848.000000</td>\n",
       "      <td>151837.00000</td>\n",
       "      <td>145244.000000</td>\n",
       "      <td>144394.000000</td>\n",
       "      <td>140774.000000</td>\n",
       "      <td>148395.000000</td>\n",
       "      <td>144306.000000</td>\n",
       "      <td>148473.000000</td>\n",
       "      <td>306306.000000</td>\n",
       "      <td>353338.000000</td>\n",
       "    </tr>\n",
       "  </tbody>\n",
       "</table>\n",
       "</div>"
      ],
      "text/plain": [
       "              Y18_Q1         Y18_Q2        Y18_Q3         Y18_Q4  \\\n",
       "count       2.000000       2.000000       2.00000       2.000000   \n",
       "mean   140574.000000  133458.500000  134560.50000  132871.000000   \n",
       "std     14661.152001   17521.398931   24432.66061   17498.064407   \n",
       "min    130207.000000  121069.000000  117284.00000  120498.000000   \n",
       "25%    135390.500000  127263.750000  125922.25000  126684.500000   \n",
       "50%    140574.000000  133458.500000  134560.50000  132871.000000   \n",
       "75%    145757.500000  139653.250000  143198.75000  139057.500000   \n",
       "max    150941.000000  145848.000000  151837.00000  145244.000000   \n",
       "\n",
       "              Y19_Q1         Y19_Q2         Y19_Q3         Y19_Q4  \\\n",
       "count       2.000000       2.000000       2.000000       2.000000   \n",
       "mean   133854.500000  128981.500000  131850.000000  132257.500000   \n",
       "std     14905.103841   16677.113434   23398.163389   17039.152106   \n",
       "min    123315.000000  117189.000000  115305.000000  120209.000000   \n",
       "25%    128584.750000  123085.250000  123577.500000  126233.250000   \n",
       "50%    133854.500000  128981.500000  131850.000000  132257.500000   \n",
       "75%    139124.250000  134877.750000  140122.500000  138281.750000   \n",
       "max    144394.000000  140774.000000  148395.000000  144306.000000   \n",
       "\n",
       "              Y20_Q1         Y20_Q2         Y20_Q3  \n",
       "count       2.000000       2.000000       2.000000  \n",
       "mean   137072.000000  305453.000000  351444.000000  \n",
       "std     16123.448825    1206.324169    2678.520487  \n",
       "min    125671.000000  304600.000000  349550.000000  \n",
       "25%    131371.500000  305026.500000  350497.000000  \n",
       "50%    137072.000000  305453.000000  351444.000000  \n",
       "75%    142772.500000  305879.500000  352391.000000  \n",
       "max    148473.000000  306306.000000  353338.000000  "
      ]
     },
     "execution_count": 151,
     "metadata": {},
     "output_type": "execute_result"
    }
   ],
   "source": [
    "desc"
   ]
  },
  {
   "cell_type": "code",
   "execution_count": 156,
   "metadata": {
    "scrolled": true
   },
   "outputs": [
    {
     "data": {
      "text/html": [
       "<div>\n",
       "<style scoped>\n",
       "    .dataframe tbody tr th:only-of-type {\n",
       "        vertical-align: middle;\n",
       "    }\n",
       "\n",
       "    .dataframe tbody tr th {\n",
       "        vertical-align: top;\n",
       "    }\n",
       "\n",
       "    .dataframe thead th {\n",
       "        text-align: right;\n",
       "    }\n",
       "</style>\n",
       "<table border=\"1\" class=\"dataframe\">\n",
       "  <thead>\n",
       "    <tr style=\"text-align: right;\">\n",
       "      <th></th>\n",
       "      <th>Y18_Q1</th>\n",
       "      <th>Y18_Q2</th>\n",
       "      <th>Y18_Q3</th>\n",
       "      <th>Y18_Q4</th>\n",
       "      <th>Y19_Q1</th>\n",
       "      <th>Y19_Q2</th>\n",
       "      <th>Y19_Q3</th>\n",
       "      <th>Y19_Q4</th>\n",
       "      <th>Y20_Q1</th>\n",
       "      <th>Y20_Q2</th>\n",
       "      <th>Y20_Q3</th>\n",
       "    </tr>\n",
       "  </thead>\n",
       "  <tbody>\n",
       "    <tr>\n",
       "      <th>mean</th>\n",
       "      <td>140574.0</td>\n",
       "      <td>133458.5</td>\n",
       "      <td>134560.5</td>\n",
       "      <td>132871.0</td>\n",
       "      <td>133854.5</td>\n",
       "      <td>128981.5</td>\n",
       "      <td>131850.0</td>\n",
       "      <td>132257.5</td>\n",
       "      <td>137072.0</td>\n",
       "      <td>305453.0</td>\n",
       "      <td>351444.0</td>\n",
       "    </tr>\n",
       "  </tbody>\n",
       "</table>\n",
       "</div>"
      ],
      "text/plain": [
       "        Y18_Q1    Y18_Q2    Y18_Q3    Y18_Q4    Y19_Q1    Y19_Q2    Y19_Q3  \\\n",
       "mean  140574.0  133458.5  134560.5  132871.0  133854.5  128981.5  131850.0   \n",
       "\n",
       "        Y19_Q4    Y20_Q1    Y20_Q2    Y20_Q3  \n",
       "mean  132257.5  137072.0  305453.0  351444.0  "
      ]
     },
     "execution_count": 156,
     "metadata": {},
     "output_type": "execute_result"
    }
   ],
   "source": [
    "desc[1:2]"
   ]
  },
  {
   "cell_type": "markdown",
   "metadata": {},
   "source": [
    "## Type"
   ]
  },
  {
   "cell_type": "markdown",
   "metadata": {},
   "source": [
    " "
   ]
  },
  {
   "cell_type": "code",
   "execution_count": 74,
   "metadata": {},
   "outputs": [],
   "source": [
    "y20q1 = pd.DataFrame(y20q10.groupby([\"demanda_ocupacio\"])[\"nombre\"].sum())\n",
    "y20q2 = pd.DataFrame(y20q20.groupby([\"demanda_ocupacio\"])[\"nombre\"].sum())\n",
    "y20q3 = pd.DataFrame(y20q30.groupby([\"demanda_ocupacio\"])[\"nombre\"].sum())\n",
    "y19q1 = pd.DataFrame(y19q10.groupby([\"demanda_ocupacio\"])[\"nombre\"].sum())\n",
    "y19q2 = pd.DataFrame(y19q20.groupby([\"demanda_ocupacio\"])[\"nombre\"].sum())\n",
    "y19q3 = pd.DataFrame(y19q30.groupby([\"demanda_ocupacio\"])[\"nombre\"].sum())\n",
    "y19q4 = pd.DataFrame(y19q40.groupby([\"demanda_ocupacio\"])[\"nombre\"].sum())\n",
    "y18q1 = pd.DataFrame(y18q10.groupby([\"demanda_ocupacio\"])[\"nombre\"].sum())\n",
    "y18q2 = pd.DataFrame(y18q20.groupby([\"demanda_ocupacio\"])[\"nombre\"].sum())\n",
    "y18q3 = pd.DataFrame(y18q30.groupby([\"demanda_ocupacio\"])[\"nombre\"].sum())\n",
    "y18q4 = pd.DataFrame(y18q40.groupby([\"demanda_ocupacio\"])[\"nombre\"].sum())\n",
    "y20q1[\"increase\"] = ((y20q1[\"nombre\"] / y19q4[\"nombre\"] -1)*100)\n",
    "y20q2[\"increase\"] = (y20q2[\"nombre\"] / y20q1[\"nombre\"] -1)*100\n",
    "y20q3[\"increase\"] = (y20q3[\"nombre\"] / y20q2[\"nombre\"] -1)*100\n",
    "y19q1[\"increase\"] = (y19q1[\"nombre\"] / y18q4[\"nombre\"] -1)*100\n",
    "y19q2[\"increase\"] = (y19q2[\"nombre\"] / y19q1[\"nombre\"] -1)*100\n",
    "y19q3[\"increase\"] = (y19q3[\"nombre\"] / y19q2[\"nombre\"] -1)*100\n",
    "y19q4[\"increase\"] = (y19q4[\"nombre\"] / y19q3[\"nombre\"] -1)*100\n",
    "y18q2[\"increase\"] = ((y18q2[\"nombre\"] / y18q1[\"nombre\"] -1)*100)\n",
    "y18q3[\"increase\"] = (y18q3[\"nombre\"] / y18q2[\"nombre\"] -1)*100\n",
    "y18q4[\"increase\"] = (y18q4[\"nombre\"] / y18q3[\"nombre\"] -1)*100\n",
    "y18q1[[\"Y18_Q2\", \"Change1\"]] = y18q2\n",
    "y18q1[[\"Y18_Q3\", \"Change2\"]] = y18q3\n",
    "y18q1[[\"Y18_Q4\", \"Change3\"]] = y18q4\n",
    "y18q1[[\"Y19_Q1\", \"Change4\"]] = y19q1\n",
    "y18q1[[\"Y19_Q2\", \"Change5\"]] = y19q2\n",
    "y18q1[[\"Y19_Q3\", \"Change6\"]] = y19q3\n",
    "y18q1[[\"Y19_Q4\", \"Change7\"]] = y19q4\n",
    "y18q1[[\"Y20_Q1\", \"Change8\"]] = y20q1\n",
    "y18q1[[\"Y20_Q2\", \"Change9\"]] = y20q2\n",
    "y18q1[[\"Y20_Q3\", \"Change10\"]] = y20q3\n",
    "full_table_emp = y18q1\n",
    "full_table_emp.rename(columns={\"nombre\":\"Y18_Q1\"}, inplace = True)"
   ]
  },
  {
   "cell_type": "code",
   "execution_count": 75,
   "metadata": {
    "scrolled": true
   },
   "outputs": [
    {
     "data": {
      "text/html": [
       "<div>\n",
       "<style scoped>\n",
       "    .dataframe tbody tr th:only-of-type {\n",
       "        vertical-align: middle;\n",
       "    }\n",
       "\n",
       "    .dataframe tbody tr th {\n",
       "        vertical-align: top;\n",
       "    }\n",
       "\n",
       "    .dataframe thead th {\n",
       "        text-align: right;\n",
       "    }\n",
       "</style>\n",
       "<table border=\"1\" class=\"dataframe\">\n",
       "  <thead>\n",
       "    <tr style=\"text-align: right;\">\n",
       "      <th></th>\n",
       "      <th>Y18_Q1</th>\n",
       "      <th>Y18_Q2</th>\n",
       "      <th>Change1</th>\n",
       "      <th>Y18_Q3</th>\n",
       "      <th>Change2</th>\n",
       "      <th>Y18_Q4</th>\n",
       "      <th>Change3</th>\n",
       "      <th>Y19_Q1</th>\n",
       "      <th>Change4</th>\n",
       "      <th>Y19_Q2</th>\n",
       "      <th>...</th>\n",
       "      <th>Y19_Q3</th>\n",
       "      <th>Change6</th>\n",
       "      <th>Y19_Q4</th>\n",
       "      <th>Change7</th>\n",
       "      <th>Y20_Q1</th>\n",
       "      <th>Change8</th>\n",
       "      <th>Y20_Q2</th>\n",
       "      <th>Change9</th>\n",
       "      <th>Y20_Q3</th>\n",
       "      <th>Change10</th>\n",
       "    </tr>\n",
       "    <tr>\n",
       "      <th>demanda_ocupacio</th>\n",
       "      <th></th>\n",
       "      <th></th>\n",
       "      <th></th>\n",
       "      <th></th>\n",
       "      <th></th>\n",
       "      <th></th>\n",
       "      <th></th>\n",
       "      <th></th>\n",
       "      <th></th>\n",
       "      <th></th>\n",
       "      <th></th>\n",
       "      <th></th>\n",
       "      <th></th>\n",
       "      <th></th>\n",
       "      <th></th>\n",
       "      <th></th>\n",
       "      <th></th>\n",
       "      <th></th>\n",
       "      <th></th>\n",
       "      <th></th>\n",
       "      <th></th>\n",
       "    </tr>\n",
       "  </thead>\n",
       "  <tbody>\n",
       "    <tr>\n",
       "      <th>Atur registrat</th>\n",
       "      <td>223473</td>\n",
       "      <td>209920</td>\n",
       "      <td>-6.064715</td>\n",
       "      <td>206985</td>\n",
       "      <td>-1.398152</td>\n",
       "      <td>208912</td>\n",
       "      <td>0.930985</td>\n",
       "      <td>211920</td>\n",
       "      <td>1.439841</td>\n",
       "      <td>202973</td>\n",
       "      <td>...</td>\n",
       "      <td>202864</td>\n",
       "      <td>-0.053702</td>\n",
       "      <td>207740</td>\n",
       "      <td>2.403581</td>\n",
       "      <td>218245</td>\n",
       "      <td>5.056802</td>\n",
       "      <td>269686</td>\n",
       "      <td>23.570299</td>\n",
       "      <td>275298</td>\n",
       "      <td>2.080939</td>\n",
       "    </tr>\n",
       "    <tr>\n",
       "      <th>Demanda no aturats</th>\n",
       "      <td>57675</td>\n",
       "      <td>56997</td>\n",
       "      <td>-1.175553</td>\n",
       "      <td>62136</td>\n",
       "      <td>9.016264</td>\n",
       "      <td>56830</td>\n",
       "      <td>-8.539333</td>\n",
       "      <td>55789</td>\n",
       "      <td>-1.831779</td>\n",
       "      <td>54990</td>\n",
       "      <td>...</td>\n",
       "      <td>60836</td>\n",
       "      <td>10.631024</td>\n",
       "      <td>56775</td>\n",
       "      <td>-6.675324</td>\n",
       "      <td>55899</td>\n",
       "      <td>-1.542933</td>\n",
       "      <td>341220</td>\n",
       "      <td>510.422369</td>\n",
       "      <td>427590</td>\n",
       "      <td>25.312115</td>\n",
       "    </tr>\n",
       "  </tbody>\n",
       "</table>\n",
       "<p>2 rows × 21 columns</p>\n",
       "</div>"
      ],
      "text/plain": [
       "                    Y18_Q1  Y18_Q2   Change1  Y18_Q3   Change2  Y18_Q4  \\\n",
       "demanda_ocupacio                                                         \n",
       "Atur registrat      223473  209920 -6.064715  206985 -1.398152  208912   \n",
       "Demanda no aturats   57675   56997 -1.175553   62136  9.016264   56830   \n",
       "\n",
       "                     Change3  Y19_Q1   Change4  Y19_Q2  ...  Y19_Q3  \\\n",
       "demanda_ocupacio                                        ...           \n",
       "Atur registrat      0.930985  211920  1.439841  202973  ...  202864   \n",
       "Demanda no aturats -8.539333   55789 -1.831779   54990  ...   60836   \n",
       "\n",
       "                      Change6  Y19_Q4   Change7  Y20_Q1   Change8  Y20_Q2  \\\n",
       "demanda_ocupacio                                                            \n",
       "Atur registrat      -0.053702  207740  2.403581  218245  5.056802  269686   \n",
       "Demanda no aturats  10.631024   56775 -6.675324   55899 -1.542933  341220   \n",
       "\n",
       "                       Change9  Y20_Q3   Change10  \n",
       "demanda_ocupacio                                   \n",
       "Atur registrat       23.570299  275298   2.080939  \n",
       "Demanda no aturats  510.422369  427590  25.312115  \n",
       "\n",
       "[2 rows x 21 columns]"
      ]
     },
     "execution_count": 75,
     "metadata": {},
     "output_type": "execute_result"
    }
   ],
   "source": [
    "full_table_emp"
   ]
  },
  {
   "cell_type": "code",
   "execution_count": 43,
   "metadata": {},
   "outputs": [
    {
     "data": {
      "text/plain": [
       "Index(['Y18_Q1', 'Y18_Q2', 'Change1', 'Y18_Q3', 'Change2', 'Y18_Q4', 'Change3',\n",
       "       'Y19_Q1', 'Change4', 'Y19_Q2', 'Change5', 'Y19_Q3', 'Change6', 'Y19_Q4',\n",
       "       'Change7', 'Y20_Q1', 'Change8', 'Y20_Q2', 'Change9', 'Y20_Q3',\n",
       "       'Change10'],\n",
       "      dtype='object')"
      ]
     },
     "execution_count": 43,
     "metadata": {},
     "output_type": "execute_result"
    }
   ],
   "source": [
    "full_table_emp.columns"
   ]
  },
  {
   "cell_type": "code",
   "execution_count": 45,
   "metadata": {},
   "outputs": [],
   "source": [
    "col = ['Y18_Q1', 'Change1', 'Y18_Q2','Change2','Y18_Q3', 'Change3','Y18_Q4', 'Change4',\n",
    "       'Y19_Q1', 'Change5', 'Y19_Q2', 'Change6', 'Y19_Q3', 'Change7', 'Y19_Q4',\n",
    "       'Change8', 'Y20_Q1', 'Change9', 'Y20_Q2', 'Change10', 'Y20_Q3']"
   ]
  },
  {
   "cell_type": "code",
   "execution_count": 77,
   "metadata": {},
   "outputs": [
    {
     "data": {
      "text/html": [
       "<div>\n",
       "<style scoped>\n",
       "    .dataframe tbody tr th:only-of-type {\n",
       "        vertical-align: middle;\n",
       "    }\n",
       "\n",
       "    .dataframe tbody tr th {\n",
       "        vertical-align: top;\n",
       "    }\n",
       "\n",
       "    .dataframe thead th {\n",
       "        text-align: right;\n",
       "    }\n",
       "</style>\n",
       "<table border=\"1\" class=\"dataframe\">\n",
       "  <thead>\n",
       "    <tr style=\"text-align: right;\">\n",
       "      <th></th>\n",
       "      <th>Y18_Q1</th>\n",
       "      <th>Change1</th>\n",
       "      <th>Y18_Q2</th>\n",
       "      <th>Change2</th>\n",
       "      <th>Y18_Q3</th>\n",
       "      <th>Change3</th>\n",
       "      <th>Y18_Q4</th>\n",
       "      <th>Change4</th>\n",
       "      <th>Y19_Q1</th>\n",
       "      <th>Change5</th>\n",
       "      <th>...</th>\n",
       "      <th>Change6</th>\n",
       "      <th>Y19_Q3</th>\n",
       "      <th>Change7</th>\n",
       "      <th>Y19_Q4</th>\n",
       "      <th>Change8</th>\n",
       "      <th>Y20_Q1</th>\n",
       "      <th>Change9</th>\n",
       "      <th>Y20_Q2</th>\n",
       "      <th>Change10</th>\n",
       "      <th>Y20_Q3</th>\n",
       "    </tr>\n",
       "    <tr>\n",
       "      <th>demanda_ocupacio</th>\n",
       "      <th></th>\n",
       "      <th></th>\n",
       "      <th></th>\n",
       "      <th></th>\n",
       "      <th></th>\n",
       "      <th></th>\n",
       "      <th></th>\n",
       "      <th></th>\n",
       "      <th></th>\n",
       "      <th></th>\n",
       "      <th></th>\n",
       "      <th></th>\n",
       "      <th></th>\n",
       "      <th></th>\n",
       "      <th></th>\n",
       "      <th></th>\n",
       "      <th></th>\n",
       "      <th></th>\n",
       "      <th></th>\n",
       "      <th></th>\n",
       "      <th></th>\n",
       "    </tr>\n",
       "  </thead>\n",
       "  <tbody>\n",
       "    <tr>\n",
       "      <th>Atur registrat</th>\n",
       "      <td>223473</td>\n",
       "      <td>-6.064715</td>\n",
       "      <td>209920</td>\n",
       "      <td>-1.398152</td>\n",
       "      <td>206985</td>\n",
       "      <td>0.930985</td>\n",
       "      <td>208912</td>\n",
       "      <td>1.439841</td>\n",
       "      <td>211920</td>\n",
       "      <td>-4.221876</td>\n",
       "      <td>...</td>\n",
       "      <td>-0.053702</td>\n",
       "      <td>202864</td>\n",
       "      <td>2.403581</td>\n",
       "      <td>207740</td>\n",
       "      <td>5.056802</td>\n",
       "      <td>218245</td>\n",
       "      <td>23.570299</td>\n",
       "      <td>269686</td>\n",
       "      <td>2.080939</td>\n",
       "      <td>275298</td>\n",
       "    </tr>\n",
       "    <tr>\n",
       "      <th>Demanda no aturats</th>\n",
       "      <td>57675</td>\n",
       "      <td>-1.175553</td>\n",
       "      <td>56997</td>\n",
       "      <td>9.016264</td>\n",
       "      <td>62136</td>\n",
       "      <td>-8.539333</td>\n",
       "      <td>56830</td>\n",
       "      <td>-1.831779</td>\n",
       "      <td>55789</td>\n",
       "      <td>-1.432182</td>\n",
       "      <td>...</td>\n",
       "      <td>10.631024</td>\n",
       "      <td>60836</td>\n",
       "      <td>-6.675324</td>\n",
       "      <td>56775</td>\n",
       "      <td>-1.542933</td>\n",
       "      <td>55899</td>\n",
       "      <td>510.422369</td>\n",
       "      <td>341220</td>\n",
       "      <td>25.312115</td>\n",
       "      <td>427590</td>\n",
       "    </tr>\n",
       "  </tbody>\n",
       "</table>\n",
       "<p>2 rows × 21 columns</p>\n",
       "</div>"
      ],
      "text/plain": [
       "                    Y18_Q1   Change1  Y18_Q2   Change2  Y18_Q3   Change3  \\\n",
       "demanda_ocupacio                                                           \n",
       "Atur registrat      223473 -6.064715  209920 -1.398152  206985  0.930985   \n",
       "Demanda no aturats   57675 -1.175553   56997  9.016264   62136 -8.539333   \n",
       "\n",
       "                    Y18_Q4   Change4  Y19_Q1   Change5  ...    Change6  \\\n",
       "demanda_ocupacio                                        ...              \n",
       "Atur registrat      208912  1.439841  211920 -4.221876  ...  -0.053702   \n",
       "Demanda no aturats   56830 -1.831779   55789 -1.432182  ...  10.631024   \n",
       "\n",
       "                    Y19_Q3   Change7  Y19_Q4   Change8  Y20_Q1     Change9  \\\n",
       "demanda_ocupacio                                                             \n",
       "Atur registrat      202864  2.403581  207740  5.056802  218245   23.570299   \n",
       "Demanda no aturats   60836 -6.675324   56775 -1.542933   55899  510.422369   \n",
       "\n",
       "                    Y20_Q2   Change10  Y20_Q3  \n",
       "demanda_ocupacio                               \n",
       "Atur registrat      269686   2.080939  275298  \n",
       "Demanda no aturats  341220  25.312115  427590  \n",
       "\n",
       "[2 rows x 21 columns]"
      ]
     },
     "execution_count": 77,
     "metadata": {},
     "output_type": "execute_result"
    }
   ],
   "source": [
    "full_table_emp[col]"
   ]
  },
  {
   "cell_type": "code",
   "execution_count": 53,
   "metadata": {},
   "outputs": [],
   "source": [
    "y20q1 = pd.DataFrame(y20q10.groupby([\"demanda_ocupacio\"])[\"nombre\"].sum())\n",
    "y20q2 = pd.DataFrame(y20q20.groupby([\"demanda_ocupacio\"])[\"nombre\"].sum())\n",
    "y20q3 = pd.DataFrame(y20q30.groupby([\"demanda_ocupacio\"])[\"nombre\"].sum())\n",
    "y19q1 = pd.DataFrame(y19q10.groupby([\"demanda_ocupacio\"])[\"nombre\"].sum())\n",
    "y19q2 = pd.DataFrame(y19q20.groupby([\"demanda_ocupacio\"])[\"nombre\"].sum())\n",
    "y19q3 = pd.DataFrame(y19q30.groupby([\"demanda_ocupacio\"])[\"nombre\"].sum())\n",
    "y19q4 = pd.DataFrame(y19q40.groupby([\"demanda_ocupacio\"])[\"nombre\"].sum())\n",
    "y18q1 = pd.DataFrame(y18q10.groupby([\"demanda_ocupacio\"])[\"nombre\"].sum())\n",
    "y18q2 = pd.DataFrame(y18q20.groupby([\"demanda_ocupacio\"])[\"nombre\"].sum())\n",
    "y18q3 = pd.DataFrame(y18q30.groupby([\"demanda_ocupacio\"])[\"nombre\"].sum())\n",
    "y18q4 = pd.DataFrame(y18q40.groupby([\"demanda_ocupacio\"])[\"nombre\"].sum())\n",
    "y18q1[[\"Y18_Q2\"]] = y18q2\n",
    "y18q1[[\"Y18_Q3\"]] = y18q3\n",
    "y18q1[[\"Y18_Q4\"]] = y18q4\n",
    "y18q1[[\"Y19_Q1\"]] = y19q1\n",
    "y18q1[[\"Y19_Q2\"]] = y19q2\n",
    "y18q1[[\"Y19_Q3\"]] = y19q3\n",
    "y18q1[[\"Y19_Q4\"]] = y19q4\n",
    "y18q1[[\"Y20_Q1\"]] = y20q1\n",
    "y18q1[[\"Y20_Q2\"]] = y20q2\n",
    "y18q1[[\"Y20_Q3\"]] = y20q3\n",
    "full_table_emp_quarter = y18q1\n",
    "full_table_emp_quarter.rename(columns={\"nombre\":\"Y18_Q1\"}, inplace = True)"
   ]
  },
  {
   "cell_type": "code",
   "execution_count": 54,
   "metadata": {},
   "outputs": [
    {
     "data": {
      "text/html": [
       "<div>\n",
       "<style scoped>\n",
       "    .dataframe tbody tr th:only-of-type {\n",
       "        vertical-align: middle;\n",
       "    }\n",
       "\n",
       "    .dataframe tbody tr th {\n",
       "        vertical-align: top;\n",
       "    }\n",
       "\n",
       "    .dataframe thead th {\n",
       "        text-align: right;\n",
       "    }\n",
       "</style>\n",
       "<table border=\"1\" class=\"dataframe\">\n",
       "  <thead>\n",
       "    <tr style=\"text-align: right;\">\n",
       "      <th></th>\n",
       "      <th>Y18_Q1</th>\n",
       "      <th>Y18_Q2</th>\n",
       "      <th>Y18_Q3</th>\n",
       "      <th>Y18_Q4</th>\n",
       "      <th>Y19_Q1</th>\n",
       "      <th>Y19_Q2</th>\n",
       "      <th>Y19_Q3</th>\n",
       "      <th>Y19_Q4</th>\n",
       "      <th>Y20_Q1</th>\n",
       "      <th>Y20_Q2</th>\n",
       "      <th>Y20_Q3</th>\n",
       "    </tr>\n",
       "    <tr>\n",
       "      <th>demanda_ocupacio</th>\n",
       "      <th></th>\n",
       "      <th></th>\n",
       "      <th></th>\n",
       "      <th></th>\n",
       "      <th></th>\n",
       "      <th></th>\n",
       "      <th></th>\n",
       "      <th></th>\n",
       "      <th></th>\n",
       "      <th></th>\n",
       "      <th></th>\n",
       "    </tr>\n",
       "  </thead>\n",
       "  <tbody>\n",
       "    <tr>\n",
       "      <th>Atur registrat</th>\n",
       "      <td>223473</td>\n",
       "      <td>209920</td>\n",
       "      <td>206985</td>\n",
       "      <td>208912</td>\n",
       "      <td>211920</td>\n",
       "      <td>202973</td>\n",
       "      <td>202864</td>\n",
       "      <td>207740</td>\n",
       "      <td>218245</td>\n",
       "      <td>269686</td>\n",
       "      <td>275298</td>\n",
       "    </tr>\n",
       "    <tr>\n",
       "      <th>Demanda no aturats</th>\n",
       "      <td>57675</td>\n",
       "      <td>56997</td>\n",
       "      <td>62136</td>\n",
       "      <td>56830</td>\n",
       "      <td>55789</td>\n",
       "      <td>54990</td>\n",
       "      <td>60836</td>\n",
       "      <td>56775</td>\n",
       "      <td>55899</td>\n",
       "      <td>341220</td>\n",
       "      <td>427590</td>\n",
       "    </tr>\n",
       "  </tbody>\n",
       "</table>\n",
       "</div>"
      ],
      "text/plain": [
       "                    Y18_Q1  Y18_Q2  Y18_Q3  Y18_Q4  Y19_Q1  Y19_Q2  Y19_Q3  \\\n",
       "demanda_ocupacio                                                             \n",
       "Atur registrat      223473  209920  206985  208912  211920  202973  202864   \n",
       "Demanda no aturats   57675   56997   62136   56830   55789   54990   60836   \n",
       "\n",
       "                    Y19_Q4  Y20_Q1  Y20_Q2  Y20_Q3  \n",
       "demanda_ocupacio                                    \n",
       "Atur registrat      207740  218245  269686  275298  \n",
       "Demanda no aturats   56775   55899  341220  427590  "
      ]
     },
     "execution_count": 54,
     "metadata": {},
     "output_type": "execute_result"
    }
   ],
   "source": [
    "full_table_emp_quarter"
   ]
  },
  {
   "cell_type": "markdown",
   "metadata": {},
   "source": [
    "=> the amount of reg was always bigger than the demanda, in q2 2020 huge increase (more than 500%) followed by 25% increase in q3, meanwhile the registered was \"only\" 25% from q1 to q2 and only 2% from q3.\n",
    "Qusetion: Why was that high the dem.. increase?"
   ]
  },
  {
   "cell_type": "code",
   "execution_count": 55,
   "metadata": {},
   "outputs": [
    {
     "data": {
      "text/html": [
       "<div>\n",
       "<style scoped>\n",
       "    .dataframe tbody tr th:only-of-type {\n",
       "        vertical-align: middle;\n",
       "    }\n",
       "\n",
       "    .dataframe tbody tr th {\n",
       "        vertical-align: top;\n",
       "    }\n",
       "\n",
       "    .dataframe thead th {\n",
       "        text-align: right;\n",
       "    }\n",
       "</style>\n",
       "<table border=\"1\" class=\"dataframe\">\n",
       "  <thead>\n",
       "    <tr style=\"text-align: right;\">\n",
       "      <th></th>\n",
       "      <th>any</th>\n",
       "      <th>mes</th>\n",
       "      <th>codi_districte</th>\n",
       "      <th>nom_districte</th>\n",
       "      <th>codi_barri</th>\n",
       "      <th>nom_barri</th>\n",
       "      <th>sexe</th>\n",
       "      <th>demanda_ocupacio</th>\n",
       "      <th>nombre</th>\n",
       "      <th>quarter</th>\n",
       "    </tr>\n",
       "  </thead>\n",
       "  <tbody>\n",
       "    <tr>\n",
       "      <th>0</th>\n",
       "      <td>2020</td>\n",
       "      <td>1</td>\n",
       "      <td>1</td>\n",
       "      <td>Ciutat Vella</td>\n",
       "      <td>1</td>\n",
       "      <td>el Raval</td>\n",
       "      <td>Homes</td>\n",
       "      <td>Atur registrat</td>\n",
       "      <td>1724</td>\n",
       "      <td>1</td>\n",
       "    </tr>\n",
       "    <tr>\n",
       "      <th>1</th>\n",
       "      <td>2020</td>\n",
       "      <td>1</td>\n",
       "      <td>1</td>\n",
       "      <td>Ciutat Vella</td>\n",
       "      <td>2</td>\n",
       "      <td>el Barri Gòtic</td>\n",
       "      <td>Homes</td>\n",
       "      <td>Atur registrat</td>\n",
       "      <td>491</td>\n",
       "      <td>1</td>\n",
       "    </tr>\n",
       "    <tr>\n",
       "      <th>2</th>\n",
       "      <td>2020</td>\n",
       "      <td>1</td>\n",
       "      <td>1</td>\n",
       "      <td>Ciutat Vella</td>\n",
       "      <td>3</td>\n",
       "      <td>la Barceloneta</td>\n",
       "      <td>Homes</td>\n",
       "      <td>Atur registrat</td>\n",
       "      <td>489</td>\n",
       "      <td>1</td>\n",
       "    </tr>\n",
       "    <tr>\n",
       "      <th>3</th>\n",
       "      <td>2020</td>\n",
       "      <td>1</td>\n",
       "      <td>1</td>\n",
       "      <td>Ciutat Vella</td>\n",
       "      <td>4</td>\n",
       "      <td>Sant Pere, Santa Caterina i la Ribera</td>\n",
       "      <td>Homes</td>\n",
       "      <td>Atur registrat</td>\n",
       "      <td>673</td>\n",
       "      <td>1</td>\n",
       "    </tr>\n",
       "    <tr>\n",
       "      <th>4</th>\n",
       "      <td>2020</td>\n",
       "      <td>1</td>\n",
       "      <td>2</td>\n",
       "      <td>Eixample</td>\n",
       "      <td>5</td>\n",
       "      <td>el Fort Pienc</td>\n",
       "      <td>Homes</td>\n",
       "      <td>Atur registrat</td>\n",
       "      <td>542</td>\n",
       "      <td>1</td>\n",
       "    </tr>\n",
       "    <tr>\n",
       "      <th>...</th>\n",
       "      <td>...</td>\n",
       "      <td>...</td>\n",
       "      <td>...</td>\n",
       "      <td>...</td>\n",
       "      <td>...</td>\n",
       "      <td>...</td>\n",
       "      <td>...</td>\n",
       "      <td>...</td>\n",
       "      <td>...</td>\n",
       "      <td>...</td>\n",
       "    </tr>\n",
       "    <tr>\n",
       "      <th>2659</th>\n",
       "      <td>2020</td>\n",
       "      <td>9</td>\n",
       "      <td>10</td>\n",
       "      <td>Sant Martí</td>\n",
       "      <td>70</td>\n",
       "      <td>el Besòs i el Maresme</td>\n",
       "      <td>Dones</td>\n",
       "      <td>Demanda no aturats</td>\n",
       "      <td>1086</td>\n",
       "      <td>3</td>\n",
       "    </tr>\n",
       "    <tr>\n",
       "      <th>2660</th>\n",
       "      <td>2020</td>\n",
       "      <td>9</td>\n",
       "      <td>10</td>\n",
       "      <td>Sant Martí</td>\n",
       "      <td>71</td>\n",
       "      <td>Provençals del Poblenou</td>\n",
       "      <td>Dones</td>\n",
       "      <td>Demanda no aturats</td>\n",
       "      <td>870</td>\n",
       "      <td>3</td>\n",
       "    </tr>\n",
       "    <tr>\n",
       "      <th>2661</th>\n",
       "      <td>2020</td>\n",
       "      <td>9</td>\n",
       "      <td>10</td>\n",
       "      <td>Sant Martí</td>\n",
       "      <td>72</td>\n",
       "      <td>Sant Martí de Provençals</td>\n",
       "      <td>Dones</td>\n",
       "      <td>Demanda no aturats</td>\n",
       "      <td>1227</td>\n",
       "      <td>3</td>\n",
       "    </tr>\n",
       "    <tr>\n",
       "      <th>2662</th>\n",
       "      <td>2020</td>\n",
       "      <td>9</td>\n",
       "      <td>10</td>\n",
       "      <td>Sant Martí</td>\n",
       "      <td>73</td>\n",
       "      <td>la Verneda i la Pau</td>\n",
       "      <td>Dones</td>\n",
       "      <td>Demanda no aturats</td>\n",
       "      <td>1384</td>\n",
       "      <td>3</td>\n",
       "    </tr>\n",
       "    <tr>\n",
       "      <th>2663</th>\n",
       "      <td>2020</td>\n",
       "      <td>9</td>\n",
       "      <td>99</td>\n",
       "      <td>No consta</td>\n",
       "      <td>99</td>\n",
       "      <td>No consta</td>\n",
       "      <td>Dones</td>\n",
       "      <td>Demanda no aturats</td>\n",
       "      <td>234</td>\n",
       "      <td>3</td>\n",
       "    </tr>\n",
       "  </tbody>\n",
       "</table>\n",
       "<p>2664 rows × 10 columns</p>\n",
       "</div>"
      ],
      "text/plain": [
       "       any  mes  codi_districte nom_districte  codi_barri  \\\n",
       "0     2020    1               1  Ciutat Vella           1   \n",
       "1     2020    1               1  Ciutat Vella           2   \n",
       "2     2020    1               1  Ciutat Vella           3   \n",
       "3     2020    1               1  Ciutat Vella           4   \n",
       "4     2020    1               2      Eixample           5   \n",
       "...    ...  ...             ...           ...         ...   \n",
       "2659  2020    9              10    Sant Martí          70   \n",
       "2660  2020    9              10    Sant Martí          71   \n",
       "2661  2020    9              10    Sant Martí          72   \n",
       "2662  2020    9              10    Sant Martí          73   \n",
       "2663  2020    9              99     No consta          99   \n",
       "\n",
       "                                  nom_barri   sexe    demanda_ocupacio  \\\n",
       "0                                  el Raval  Homes      Atur registrat   \n",
       "1                            el Barri Gòtic  Homes      Atur registrat   \n",
       "2                            la Barceloneta  Homes      Atur registrat   \n",
       "3     Sant Pere, Santa Caterina i la Ribera  Homes      Atur registrat   \n",
       "4                             el Fort Pienc  Homes      Atur registrat   \n",
       "...                                     ...    ...                 ...   \n",
       "2659                  el Besòs i el Maresme  Dones  Demanda no aturats   \n",
       "2660                Provençals del Poblenou  Dones  Demanda no aturats   \n",
       "2661               Sant Martí de Provençals  Dones  Demanda no aturats   \n",
       "2662                    la Verneda i la Pau  Dones  Demanda no aturats   \n",
       "2663                              No consta  Dones  Demanda no aturats   \n",
       "\n",
       "      nombre  quarter  \n",
       "0       1724        1  \n",
       "1        491        1  \n",
       "2        489        1  \n",
       "3        673        1  \n",
       "4        542        1  \n",
       "...      ...      ...  \n",
       "2659    1086        3  \n",
       "2660     870        3  \n",
       "2661    1227        3  \n",
       "2662    1384        3  \n",
       "2663     234        3  \n",
       "\n",
       "[2664 rows x 10 columns]"
      ]
     },
     "execution_count": 55,
     "metadata": {},
     "output_type": "execute_result"
    }
   ],
   "source": [
    "q_2020"
   ]
  },
  {
   "cell_type": "code",
   "execution_count": 59,
   "metadata": {},
   "outputs": [
    {
     "data": {
      "text/plain": [
       "mes  demanda_ocupacio  \n",
       "1    Atur registrat         70602\n",
       "     Demanda no aturats     18484\n",
       "2    Atur registrat         71447\n",
       "     Demanda no aturats     16937\n",
       "3    Atur registrat         76196\n",
       "     Demanda no aturats     20478\n",
       "4    Atur registrat         86423\n",
       "     Demanda no aturats     83383\n",
       "5    Atur registrat         90528\n",
       "     Demanda no aturats    124711\n",
       "6    Atur registrat         92735\n",
       "     Demanda no aturats    133126\n",
       "7    Atur registrat         91100\n",
       "     Demanda no aturats    139123\n",
       "8    Atur registrat         92916\n",
       "     Demanda no aturats    142823\n",
       "9    Atur registrat         91282\n",
       "     Demanda no aturats    145644\n",
       "Name: nombre, dtype: int64"
      ]
     },
     "execution_count": 59,
     "metadata": {},
     "output_type": "execute_result"
    }
   ],
   "source": [
    "q_2020.groupby([\"mes\",\"demanda_ocupacio\"])[\"nombre\"].sum()\n",
    "    \n",
    "    "
   ]
  },
  {
   "cell_type": "markdown",
   "metadata": {},
   "source": [
    "# Avg per year"
   ]
  },
  {
   "cell_type": "markdown",
   "metadata": {},
   "source": [
    "Demanda no aturats"
   ]
  },
  {
   "cell_type": "code",
   "execution_count": 141,
   "metadata": {},
   "outputs": [],
   "source": [
    "x_d =pd.DataFrame(q_2020[q_2020['demanda_ocupacio'] == 'Demanda no aturats'].groupby(\"mes\")[\"nombre\"].sum())"
   ]
  },
  {
   "cell_type": "code",
   "execution_count": 142,
   "metadata": {
    "scrolled": true
   },
   "outputs": [
    {
     "data": {
      "text/plain": [
       "nombre    91634.333333\n",
       "dtype: float64"
      ]
     },
     "execution_count": 142,
     "metadata": {},
     "output_type": "execute_result"
    }
   ],
   "source": [
    "x_d.mean()"
   ]
  },
  {
   "cell_type": "code",
   "execution_count": 143,
   "metadata": {},
   "outputs": [],
   "source": [
    "y_d =pd.DataFrame(q_2019[q_2019['demanda_ocupacio'] == 'Demanda no aturats'].groupby(\"mes\")[\"nombre\"].sum())"
   ]
  },
  {
   "cell_type": "code",
   "execution_count": 144,
   "metadata": {
    "scrolled": true
   },
   "outputs": [
    {
     "data": {
      "text/plain": [
       "nombre    19032.5\n",
       "dtype: float64"
      ]
     },
     "execution_count": 144,
     "metadata": {},
     "output_type": "execute_result"
    }
   ],
   "source": [
    "y_d.mean()"
   ]
  },
  {
   "cell_type": "code",
   "execution_count": 145,
   "metadata": {},
   "outputs": [],
   "source": [
    "z_d =pd.DataFrame(q_2018[q_2018['demanda_ocupacio'] == 'Demanda no aturats'].groupby(\"mes\")[\"nombre\"].sum())"
   ]
  },
  {
   "cell_type": "code",
   "execution_count": 146,
   "metadata": {},
   "outputs": [
    {
     "data": {
      "text/plain": [
       "nombre    19469.833333\n",
       "dtype: float64"
      ]
     },
     "execution_count": 146,
     "metadata": {},
     "output_type": "execute_result"
    }
   ],
   "source": [
    "z_d.mean()"
   ]
  },
  {
   "cell_type": "markdown",
   "metadata": {},
   "source": [
    "Atur registrat"
   ]
  },
  {
   "cell_type": "code",
   "execution_count": 66,
   "metadata": {
    "scrolled": true
   },
   "outputs": [
    {
     "data": {
      "text/plain": [
       "mes\n",
       "1    70602\n",
       "2    71447\n",
       "3    76196\n",
       "4    86423\n",
       "5    90528\n",
       "6    92735\n",
       "7    91100\n",
       "8    92916\n",
       "9    91282\n",
       "Name: nombre, dtype: int64"
      ]
     },
     "execution_count": 66,
     "metadata": {},
     "output_type": "execute_result"
    }
   ],
   "source": [
    "q_2020[q_2020['demanda_ocupacio'] == 'Atur registrat'].groupby(\"mes\")[\"nombre\"].sum()"
   ]
  },
  {
   "cell_type": "code",
   "execution_count": 147,
   "metadata": {},
   "outputs": [],
   "source": [
    "x_a=q_2020[q_2020['demanda_ocupacio'] == 'Atur registrat'].groupby(\"mes\")[\"nombre\"].sum()\n",
    "y_a=q_2019[q_2019['demanda_ocupacio'] == 'Atur registrat'].groupby(\"mes\")[\"nombre\"].sum()\n",
    "z_a=q_2018[q_2018['demanda_ocupacio'] == 'Atur registrat'].groupby(\"mes\")[\"nombre\"].sum()"
   ]
  },
  {
   "cell_type": "code",
   "execution_count": 149,
   "metadata": {},
   "outputs": [
    {
     "name": "stdout",
     "output_type": "stream",
     "text": [
      "84803.22222222222 68791.41666666667 70774.16666666667\n"
     ]
    }
   ],
   "source": [
    "print(x_a.mean(),y_a.mean(), z_a.mean())"
   ]
  },
  {
   "cell_type": "code",
   "execution_count": null,
   "metadata": {},
   "outputs": [],
   "source": []
  }
 ],
 "metadata": {
  "kernelspec": {
   "display_name": "Python 3",
   "language": "python",
   "name": "python3"
  },
  "language_info": {
   "codemirror_mode": {
    "name": "ipython",
    "version": 3
   },
   "file_extension": ".py",
   "mimetype": "text/x-python",
   "name": "python",
   "nbconvert_exporter": "python",
   "pygments_lexer": "ipython3",
   "version": "3.8.6"
  }
 },
 "nbformat": 4,
 "nbformat_minor": 4
}
